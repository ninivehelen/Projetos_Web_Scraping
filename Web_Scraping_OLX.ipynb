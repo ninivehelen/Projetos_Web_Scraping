{
  "nbformat": 4,
  "nbformat_minor": 0,
  "metadata": {
    "colab": {
      "name": "Cópia de Web_Scraping_OLX.ipynb",
      "provenance": [],
      "collapsed_sections": [],
      "authorship_tag": "ABX9TyPYjA1i7Kl5IxDcVYHhmg10",
      "include_colab_link": true
    },
    "kernelspec": {
      "name": "python3",
      "display_name": "Python 3"
    },
    "language_info": {
      "name": "python"
    }
  },
  "cells": [
    {
      "cell_type": "markdown",
      "metadata": {
        "id": "view-in-github",
        "colab_type": "text"
      },
      "source": [
        "<a href=\"https://colab.research.google.com/github/ninivehelen/Projetos_Web_Scraping/blob/master/Web_Scraping_OLX.ipynb\" target=\"_parent\"><img src=\"https://colab.research.google.com/assets/colab-badge.svg\" alt=\"Open In Colab\"/></a>"
      ]
    },
    {
      "cell_type": "code",
      "source": [
        "from bs4 import BeautifulSoup\n",
        "from urllib.request import urlopen, Request\n",
        "from urllib.error import URLError, HTTPError\n",
        "import pandas as pd\n",
        "import requests\n",
        "import json"
      ],
      "metadata": {
        "id": "XmCRGCVdmj5w"
      },
      "execution_count": null,
      "outputs": []
    },
    {
      "cell_type": "code",
      "source": [
        "olx_dados = []\n",
        "quantidade_paginas = 100\n",
        "\n",
        "for i in range(quantidade_paginas):\n",
        "    \n",
        "    url = 'https://sc.olx.com.br/florianopolis-e-regiao/imoveis/terrenos?o='+  str(i + 1)\n",
        "\n",
        "    headers = {'User-Agent': 'Mozilla/5.0 (Macintosh; Intel Mac OS X 10_15_5) AppleWebKit/537.36 (KHTML, like Gecko) Chrome/83.0.4103.106 Safari/537.36'}\n",
        "\n",
        "    try:\n",
        "        req = Request(url, headers= headers)\n",
        "        response = urlopen(req)\n",
        "        html = response.read()\n",
        "        \n",
        "    except HTTPError as e:\n",
        "        print(e.status, e.reason)\n",
        "\n",
        "    except URLerror as e:\n",
        "        print(e.reason)\n",
        "\n",
        "    soup = BeautifulSoup(html, 'lxml')\n",
        "\n",
        "\n",
        "    for link in soup.findAll('li', attrs={'class': 'sc-1fcmfeb-2 iezWpY'}):\n",
        "      for a in link.findAll(\"a\"):\n",
        "        href = a.attrs[\"href\"]\n",
        "        #print(href)\n",
        "        headers2 = {'User-Agent': 'Mozilla/5.0 (Macintosh; Intel Mac OS X 10_15_5) AppleWebKit/537.36 (KHTML, like Gecko) Chrome/83.0.4103.106 Safari/537.36'}\n",
        "\n",
        "    try:\n",
        "        req2 = Request(href, headers= headers)\n",
        "        response = urlopen(req2)\n",
        "        html2 = response.read()\n",
        "        \n",
        "    except HTTPError as e:\n",
        "        print(e.status, e.reason)\n",
        "\n",
        "    except URLerror as e:\n",
        "        print(e.reason)\n",
        "\n",
        "    soup2 = BeautifulSoup(html2, 'lxml')\n",
        "    for link2 in soup2.findAll('div', attrs={'class': 'sc-18p038x-3 dSrKbb'}):\n",
        "        nome = link2.find('h1', attrs={'class': \"sc-45jt43-0 eCghYu sc-ifAKCX cmFKIN\"})\n",
        "        preco =  link2.find('h2', attrs={'class': \"sc-ifAKCX eQLrcK\"})\n",
        "        print(\"Nome\",nome.text)\n",
        "        print(\"Preço\",preco.text)\n",
        "\n",
        "    for link3 in soup2.findAll('p', attrs={'class': 'sc-1kv8vxj-0 gDWTkJ'}):\n",
        "      descricao =  link3.find('span', attrs={'class': \"sc-1sj3nln-1 eOSweo sc-ifAKCX cmFKIN\"})\n",
        "      print(\"Descrição\",descricao.text)\n",
        "\n",
        "    olx_dados.append({\n",
        "                    \"Titulo\": nome.text,\n",
        "                    \"Preço\": preco.text,\n",
        "                    \"Descricão:\": descricao.text,\n",
        "                    \n",
        "                })\n",
        "    print(olx_dados)\n",
        "    with open('olx_dados.json', 'w', encoding='utf-8') as fp:\n",
        "            json.dump(olx_dados, fp, indent=3, ensure_ascii=False)\n",
        "     \n",
        "        \n",
        "\n",
        "        \n",
        "            \n",
        "      \n",
        "     \n"
      ],
      "metadata": {
        "colab": {
          "base_uri": "https://localhost:8080/"
        },
        "id": "q9m0OFEVoNij",
        "outputId": "492ac6f0-1e6c-41d0-ef00-2d7275fc82d3"
      },
      "execution_count": null,
      "outputs": [
        {
          "output_type": "stream",
          "name": "stdout",
          "text": [
            "Nome Terreno para venda em Capoeiras Florianópolis\n",
            "Preço 9.000.000\n",
            "Descrição Código do anúncio: CTCP01\n",
            "\n",
            "Terreno de 3.892,24 m², plano, com viabilidade para construção, ponto para comércio próximo ao BIG, Havan, Yamaha e Land Rover. \n",
            "  \n",
            " Excelente área para grandes comércios.\n",
            "[{'Titulo': 'Terreno para venda em Capoeiras Florianópolis', 'Preço': '9.000.000', 'Descricão:': 'Código do anúncio: CTCP01\\n\\nTerreno de 3.892,24 m², plano, com viabilidade para construção, ponto para comércio próximo ao BIG, Havan, Yamaha e Land Rover. \\n  \\n Excelente área para grandes comércios.'}]\n",
            "Nome Florianópolis - Terreno Padrão - Ingleses do Rio Vermelho\n",
            "Preço 1.450.000\n",
            "Descrição Código do anúncio: 4577\n",
            "\n",
            "São 2  excelente terrenos em região valorizada de Ingleses, ruas largas e pavimentadas, ótimos imóveis ao redor, valorizando cada vez mais a região. São 2 terrenos sendo 1 terreno com viabilidade para prédio (nas fotos viabilidade) e 1 terreno para casa residencial.  Terreno para prédio com 1.043,92m² - RS 1.450.000,00 Terreno para casa residencial com 495m² - RS 950.000,00  ESCRITURA PÚBLICA.                  PROXIMIDADES: 270 metros entrada da praia 260 metros do Supermercado Gaivotas e da Rua das Gaivotas 400 metros de restaurantes 800 metros da Sorveteria Monte Pelmo, sorveteria italiana muito conhecida 1000 metros do Centrinho de Ingleses 1000 metros da SC 403 (via Rua do Marisco)                  As informações estão sujeitas a alterações. Consulte o corretor responsável.\n",
            "[{'Titulo': 'Terreno para venda em Capoeiras Florianópolis', 'Preço': '9.000.000', 'Descricão:': 'Código do anúncio: CTCP01\\n\\nTerreno de 3.892,24 m², plano, com viabilidade para construção, ponto para comércio próximo ao BIG, Havan, Yamaha e Land Rover. \\n  \\n Excelente área para grandes comércios.'}, {'Titulo': 'Florianópolis - Terreno Padrão - Ingleses do Rio Vermelho', 'Preço': '1.450.000', 'Descricão:': 'Código do anúncio: 4577\\n\\nSão 2  excelente terrenos em região valorizada de Ingleses, ruas largas e pavimentadas, ótimos imóveis ao redor, valorizando cada vez mais a região. São 2 terrenos sendo 1 terreno com viabilidade para prédio (nas fotos viabilidade) e 1 terreno para casa residencial.  Terreno para prédio com 1.043,92m² - RS 1.450.000,00 Terreno para casa residencial com 495m² - RS 950.000,00  ESCRITURA PÚBLICA.                  PROXIMIDADES: 270 metros entrada da praia 260 metros do Supermercado Gaivotas e da Rua das Gaivotas 400 metros de restaurantes 800 metros da Sorveteria Monte Pelmo, sorveteria italiana muito conhecida 1000 metros do Centrinho de Ingleses 1000 metros da SC 403 (via Rua do Marisco)                  As informações estão sujeitas a alterações. Consulte o corretor responsável.'}]\n",
            "Nome Terreno à venda, 300 m² por R$ 60.000 - Village Dunas II - Balneário Gaivota/SC\n",
            "Preço 60.000\n",
            "Descrição Código do anúncio: TE0299\n",
            "\n",
            "Terrenos para investimento no bairro Village Dunas II em Balneário Gaivota/SC a 5km do Centro da cidade com opção de lado a lado! \n",
            " Os terrenos possuem 12x25 - 300m² estão cercados a 500m do mar! \n",
            " Valor de cada terreno 60mil. \n",
            " Agende sua visita! -\n",
            "[{'Titulo': 'Terreno para venda em Capoeiras Florianópolis', 'Preço': '9.000.000', 'Descricão:': 'Código do anúncio: CTCP01\\n\\nTerreno de 3.892,24 m², plano, com viabilidade para construção, ponto para comércio próximo ao BIG, Havan, Yamaha e Land Rover. \\n  \\n Excelente área para grandes comércios.'}, {'Titulo': 'Florianópolis - Terreno Padrão - Ingleses do Rio Vermelho', 'Preço': '1.450.000', 'Descricão:': 'Código do anúncio: 4577\\n\\nSão 2  excelente terrenos em região valorizada de Ingleses, ruas largas e pavimentadas, ótimos imóveis ao redor, valorizando cada vez mais a região. São 2 terrenos sendo 1 terreno com viabilidade para prédio (nas fotos viabilidade) e 1 terreno para casa residencial.  Terreno para prédio com 1.043,92m² - RS 1.450.000,00 Terreno para casa residencial com 495m² - RS 950.000,00  ESCRITURA PÚBLICA.                  PROXIMIDADES: 270 metros entrada da praia 260 metros do Supermercado Gaivotas e da Rua das Gaivotas 400 metros de restaurantes 800 metros da Sorveteria Monte Pelmo, sorveteria italiana muito conhecida 1000 metros do Centrinho de Ingleses 1000 metros da SC 403 (via Rua do Marisco)                  As informações estão sujeitas a alterações. Consulte o corretor responsável.'}, {'Titulo': 'Terreno à venda, 300 m² por R$ 60.000 - Village Dunas II - Balneário Gaivota/SC', 'Preço': '60.000', 'Descricão:': 'Código do anúncio: TE0299\\n\\nTerrenos para investimento no bairro Village Dunas II em Balneário Gaivota/SC a 5km do Centro da cidade com opção de lado a lado! \\n Os terrenos possuem 12x25 - 300m² estão cercados a 500m do mar! \\n Valor de cada terreno 60mil. \\n Agende sua visita! -'}]\n"
          ]
        }
      ]
    },
    {
      "cell_type": "code",
      "source": [
        ""
      ],
      "metadata": {
        "id": "XSvPUGsCGcLl"
      },
      "execution_count": null,
      "outputs": []
    }
  ]
}